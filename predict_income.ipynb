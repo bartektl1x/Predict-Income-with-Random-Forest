{
 "cells": [
  {
   "cell_type": "markdown",
   "metadata": {},
   "source": [
    "# Project: Predict Income with Random Forest\n",
    "\n",
    "In this project, I will be using a dataset containing census information from UCI’s Machine Learning Repository. By using this census data with a random forest, I will try to predict whether or not a person makes more than $50,000. The original data set is available at the UCI Machine Learning Repository: https://archive.ics.uci.edu/ml/datasets/census+income\n",
    "\n",
    "Let's load data and answer few question first:\n",
    "\n",
    "What are the numbers of columns and records?\n",
    "what percentage of samples have incomes less than 50k and greater than 50k?\n",
    "What are the features from the first person in this data?\n"
   ]
  },
  {
   "cell_type": "code",
   "execution_count": 242,
   "metadata": {},
   "outputs": [
    {
     "name": "stdout",
     "output_type": "stream",
     "text": [
      "<class 'pandas.core.frame.DataFrame'>\n",
      "RangeIndex: 32561 entries, 0 to 32560\n",
      "Data columns (total 15 columns):\n",
      " #   Column          Non-Null Count  Dtype \n",
      "---  ------          --------------  ----- \n",
      " 0   age             32561 non-null  int64 \n",
      " 1   workclass       32561 non-null  object\n",
      " 2   fnlwgt          32561 non-null  int64 \n",
      " 3   education       32561 non-null  object\n",
      " 4   education-num   32561 non-null  int64 \n",
      " 5   marital-status  32561 non-null  object\n",
      " 6   occupation      32561 non-null  object\n",
      " 7   relationship    32561 non-null  object\n",
      " 8   race            32561 non-null  object\n",
      " 9   sex             32561 non-null  object\n",
      " 10  capital-gain    32561 non-null  int64 \n",
      " 11  capital-loss    32561 non-null  int64 \n",
      " 12  hours-per-week  32561 non-null  int64 \n",
      " 13  native-country  32561 non-null  object\n",
      " 14  income          32561 non-null  object\n",
      "dtypes: int64(6), object(9)\n",
      "memory usage: 3.7+ MB\n",
      "None\n",
      "(32561, 15)\n",
      " <=50K    0.75919\n",
      " >50K     0.24081\n",
      "Name: income, dtype: float64\n",
      "age                           39\n",
      "workclass              State-gov\n",
      "fnlwgt                     77516\n",
      "education              Bachelors\n",
      "education-num                 13\n",
      "marital-status     Never-married\n",
      "occupation          Adm-clerical\n",
      "relationship       Not-in-family\n",
      "race                       White\n",
      "sex                         Male\n",
      "capital-gain                2174\n",
      "capital-loss                   0\n",
      "hours-per-week                40\n",
      "native-country     United-States\n",
      "income                     <=50K\n",
      "Name: 0, dtype: object\n"
     ]
    }
   ],
   "source": [
    "import pandas as pd\n",
    "import numpy as np\n",
    "\n",
    "col_names = ['age', 'workclass', 'fnlwgt','education', 'education-num', \n",
    "'marital-status', 'occupation', 'relationship', 'race', 'sex',\n",
    "'capital-gain','capital-loss', 'hours-per-week','native-country', 'income']\n",
    "\n",
    "data = pd.read_csv('adult.data', header=None, names=col_names)\n",
    "print(data.info())\n",
    "\n",
    "print(data.shape)\n",
    "\n",
    "print(data.income.value_counts(normalize=True))\n",
    "\n",
    "print(data.iloc[0,:])"
   ]
  },
  {
   "cell_type": "markdown",
   "metadata": {},
   "source": [
    "I already fixed lack of `columns` name but there is another problem with this data -- every `string` has an extra space at the start. For example, the first row’s native-country is “ United-States”, but we want it to be “United-States”. Python `strip` functions remove characters or white spaces from the beginning or end of a string\n",
    "\n",
    "Let's fix that using `strip`. "
   ]
  },
  {
   "cell_type": "code",
   "execution_count": 243,
   "metadata": {},
   "outputs": [],
   "source": [
    "for x in data.select_dtypes(include=['object']).columns:\n",
    "    data[x] = data[x].str.strip()"
   ]
  },
  {
   "cell_type": "markdown",
   "metadata": {},
   "source": [
    "Now I have pick few features for further analysis. For now I will be interested in age, capital-gain and lose, hours-per-week, sex and race. Then convert categorical features to dummy variables using `pd.get_dummies()`"
   ]
  },
  {
   "cell_type": "code",
   "execution_count": 244,
   "metadata": {},
   "outputs": [
    {
     "name": "stdout",
     "output_type": "stream",
     "text": [
      "Index(['age', 'capital-gain', 'capital-loss', 'hours-per-week', 'sex_Male',\n",
      "       'race_Asian-Pac-Islander', 'race_Black', 'race_Other', 'race_White'],\n",
      "      dtype='object')\n",
      "<=50K    24720\n",
      ">50K      7841\n",
      "Name: income, dtype: int64\n"
     ]
    }
   ],
   "source": [
    "feature_cols = ['age', 'capital-gain', 'capital-loss', 'hours-per-week', 'sex','race']\n",
    "\n",
    "X = pd.get_dummies(data[feature_cols], drop_first=True)\n",
    "print(X.columns)\n",
    "\n",
    "print(data['income'].value_counts())"
   ]
  },
  {
   "cell_type": "markdown",
   "metadata": {},
   "source": [
    "Change `income` column for `1` if income > 50k and `0` if income <=50k. It will be `y` variable in further machine learning analysis"
   ]
  },
  {
   "cell_type": "code",
   "execution_count": 245,
   "metadata": {},
   "outputs": [
    {
     "name": "stdout",
     "output_type": "stream",
     "text": [
      "0    24720\n",
      "1     7841\n",
      "Name: income, dtype: int64\n"
     ]
    }
   ],
   "source": [
    "data['income'] = data['income'].apply(lambda row: 1 if row == '>50K' else 0)\n",
    "y = data['income']\n",
    "\n",
    "print(y.value_counts())"
   ]
  },
  {
   "cell_type": "markdown",
   "metadata": {},
   "source": [
    "Let's split the data into `training` and `testing` sets"
   ]
  },
  {
   "cell_type": "code",
   "execution_count": 246,
   "metadata": {},
   "outputs": [],
   "source": [
    "from sklearn.model_selection import train_test_split\n",
    "\n",
    "X_train, X_test, y_train, y_test = train_test_split(X, y, test_size=0.2, random_state=1)"
   ]
  },
  {
   "cell_type": "markdown",
   "metadata": {},
   "source": [
    "Now lets make an instance of a `RandomForestClassifier()` (with `default parameters`). Fit the model on the `train data` and print the `accuracy` score on the `test data`. This will act as a baseline to compare other model performances. Also let's check some more details about importance of each feature."
   ]
  },
  {
   "cell_type": "code",
   "execution_count": 247,
   "metadata": {},
   "outputs": [
    {
     "name": "stdout",
     "output_type": "stream",
     "text": [
      "9\n",
      "['age' 'capital-gain' 'capital-loss' 'hours-per-week' 'sex_Male'\n",
      " 'race_Asian-Pac-Islander' 'race_Black' 'race_Other' 'race_White']\n",
      "[0.32206975 0.28633547 0.11436332 0.19599978 0.05882706 0.00486119\n",
      " 0.00763629 0.00203321 0.00787392]\n",
      "Accuracy score for default random forest: 81.913%\n"
     ]
    }
   ],
   "source": [
    "from sklearn.ensemble import RandomForestClassifier\n",
    "\n",
    "forest = RandomForestClassifier()\n",
    "\n",
    "forest.fit(X_train, y_train)\n",
    "\n",
    "score = forest.score(X_test, y_test)\n",
    "\n",
    "print(forest.n_features_in_)\n",
    "print(forest.feature_names_in_)\n",
    "print(forest.feature_importances_)\n",
    "print(f'Accuracy score for default random forest: {round(score * 100, 3)}%')\n"
   ]
  },
  {
   "cell_type": "markdown",
   "metadata": {},
   "source": [
    "Using default `hyperparameters` random forest model got about 82% accuracy which is not bad at all. Whatmore, We can see that `age`, `capital-gain` and `hours-per-week` are 3 most important features, which make perfect sense. With age people geting more experiene and better paying jobs and working for more hours mean more work done.\n",
    "\n",
    "\n",
    "Now let's see if I can get better accuracy by `tuning hyperparameters`. I will explore tuning the random forest classifier model by testing the performance over a range of `max_depth values`. Fit a random forest classifier for `max_depth values from 1-25`. Save the accuracy score for the train and test sets in the lists accuracy_train, accuracy_test."
   ]
  },
  {
   "cell_type": "code",
   "execution_count": 248,
   "metadata": {},
   "outputs": [
    {
     "name": "stdout",
     "output_type": "stream",
     "text": [
      "The highest accuracy on the test is achieved when depth: 12\n",
      "The highest accuracy on the test set is: 83.433%\n"
     ]
    }
   ],
   "source": [
    "from sklearn.metrics import accuracy_score\n",
    "accuracy_train = []\n",
    "accuracy_test = []\n",
    "depths = range(1, 26)\n",
    "\n",
    "for k in depths:\n",
    "    rf = RandomForestClassifier(max_depth=k, random_state=1)\n",
    "    rf.fit(X_train, y_train)\n",
    "    y_pred = rf.predict(X_train)\n",
    "    accuracy_test.append(rf.score(X_test, y_test))\n",
    "    accuracy_train.append(rf.score(X_train, y_train))\n",
    "\n",
    "best_acc = np.max(accuracy_test)\n",
    "best_depth = depths[np.argmax(accuracy_test)]\n",
    "\n",
    "\n",
    "\n",
    "\n",
    "print(f'The highest accuracy on the test is achieved when depth: {best_depth}')\n",
    "print(f'The highest accuracy on the test set is: {round(best_acc*100, 3)}%')\n",
    "\n",
    "\n",
    "    \n",
    "    "
   ]
  },
  {
   "cell_type": "markdown",
   "metadata": {},
   "source": [
    "Now let's plot the results using `Matplotlib`"
   ]
  },
  {
   "cell_type": "code",
   "execution_count": 249,
   "metadata": {},
   "outputs": [
    {
     "data": {
      "image/png": "[encoded data removed]",
      "text/plain": [
       "<Figure size 640x480 with 1 Axes>"
      ]
     },
     "metadata": {},
     "output_type": "display_data"
    }
   ],
   "source": [
    "from matplotlib import pyplot as plt   \n",
    "\n",
    "plt.plot(depths, accuracy_test, 'r*:', depths, accuracy_train, 'bo--')\n",
    "plt.legend(['accuracy_train' , 'accuracy_test'])\n",
    "plt.xlabel('Max depths')\n",
    "plt.ylabel('Accuracy')\n",
    "plt.show()"
   ]
  },
  {
   "cell_type": "markdown",
   "metadata": {},
   "source": [
    "Now we have `best depth value` so let's apply it to Random forest model and make `Best Random Forest`. Then I will check what are the `most important features` and what are their `values`. "
   ]
  },
  {
   "cell_type": "code",
   "execution_count": 250,
   "metadata": {},
   "outputs": [
    {
     "name": "stdout",
     "output_type": "stream",
     "text": [
      "Top 5 random forest features:\n",
      "          feature  importance\n",
      "1    capital-gain    0.370640\n",
      "0             age    0.243741\n",
      "3  hours-per-week    0.143979\n",
      "2    capital-loss    0.139283\n",
      "4        sex_Male    0.081831\n"
     ]
    }
   ],
   "source": [
    "best_rf = RandomForestClassifier(max_depth=best_depth)\n",
    "best_rf.fit(X_train, y_train)\n",
    "\n",
    "feature_imp_df = pd.DataFrame(zip(X_train.columns, best_rf.feature_importances_),  columns=['feature', 'importance'])\n",
    "\n",
    "print('Top 5 random forest features:')\n",
    "print(feature_imp_df.sort_values('importance', ascending=False).iloc[0:5])"
   ]
  },
  {
   "cell_type": "markdown",
   "metadata": {},
   "source": [
    "# Create Additional Features and Re-Tune\n",
    "\n",
    "Now let's step back. In previous model I did not take into account at education feature. Now, lets do another model but this time including this feature. Looking at it, there are 16 unique values – from preschool to professional school. It would not make sense adding dummy variables for each value as then I would be left with too many variables. It makes sense to bin some of these values together. I will take the approach of combining the values into 3 groups: `High school or less`, `College to Bachelors` and `Masters or more`. "
   ]
  },
  {
   "cell_type": "code",
   "execution_count": 251,
   "metadata": {},
   "outputs": [
    {
     "name": "stdout",
     "output_type": "stream",
     "text": [
      "                                0\n",
      "education    education-num       \n",
      "Preschool    1                 51\n",
      "1st-4th      2                168\n",
      "5th-6th      3                333\n",
      "7th-8th      4                646\n",
      "9th          5                514\n",
      "10th         6                933\n",
      "11th         7               1175\n",
      "12th         8                433\n",
      "HS-grad      9              10501\n",
      "Some-college 10              7291\n",
      "Assoc-voc    11              1382\n",
      "Assoc-acdm   12              1067\n",
      "Bachelors    13              5355\n",
      "Masters      14              1723\n",
      "Prof-school  15               576\n",
      "Doctorate    16               413\n"
     ]
    }
   ],
   "source": [
    "education_features = pd.DataFrame(data[['education', 'education-num']].value_counts())\n",
    "print(education_features.sort_values(by='education-num'))\n"
   ]
  },
  {
   "cell_type": "markdown",
   "metadata": {},
   "source": [
    "As we see above. Education-num 1-9 will be `High School or less` 10-13 will be `College to bachelors` and 13-16 will be `Masters or more`. Lets divide them into these group"
   ]
  },
  {
   "cell_type": "code",
   "execution_count": 252,
   "metadata": {},
   "outputs": [
    {
     "name": "stdout",
     "output_type": "stream",
     "text": [
      "College to Bachelors    15095\n",
      "HS or less              14754\n",
      "Masters or more          2712\n",
      "Name: education_bin, dtype: int64\n"
     ]
    }
   ],
   "source": [
    "data['education_bin'] = pd.cut(data['education-num'], [0,9,13,16], labels=['HS or less', 'College to Bachelors', 'Masters or more'])\n",
    "\n",
    "print(data['education_bin'].value_counts())"
   ]
  },
  {
   "cell_type": "markdown",
   "metadata": {},
   "source": [
    "Let's save new features as `feature_cols`"
   ]
  },
  {
   "cell_type": "code",
   "execution_count": 253,
   "metadata": {},
   "outputs": [],
   "source": [
    "feature_cols = ['age',\n",
    "       'capital-gain', 'capital-loss', 'hours-per-week', 'sex', 'race','education_bin']"
   ]
  },
  {
   "cell_type": "markdown",
   "metadata": {},
   "source": [
    "And as before get numbers from categorical variables using `get_dummy`"
   ]
  },
  {
   "cell_type": "code",
   "execution_count": 254,
   "metadata": {},
   "outputs": [],
   "source": [
    "X2 = pd.get_dummies(data[feature_cols], drop_first=True)"
   ]
  },
  {
   "cell_type": "markdown",
   "metadata": {},
   "source": [
    "Split our data"
   ]
  },
  {
   "cell_type": "code",
   "execution_count": 255,
   "metadata": {},
   "outputs": [],
   "source": [
    "X2_train, X2_test, y2_train, y2_test = train_test_split(X2, y, random_state=1, test_size=0.2)"
   ]
  },
  {
   "cell_type": "markdown",
   "metadata": {},
   "source": [
    "And as before find best `max depth` and establish ` Best Random Forest Model`"
   ]
  },
  {
   "cell_type": "code",
   "execution_count": 256,
   "metadata": {},
   "outputs": [
    {
     "name": "stdout",
     "output_type": "stream",
     "text": [
      "The highest accuracy on the test is achieved when depth: 12\n",
      "The highest accuracy on the test set is: 83.433%\n"
     ]
    }
   ],
   "source": [
    "accuracy_train2 = []\n",
    "accuracy_test2 = []\n",
    "depths = range(1, 26)\n",
    "\n",
    "for k in depths:\n",
    "    rf = RandomForestClassifier(max_depth=k)\n",
    "    rf.fit(X2_train, y2_train)\n",
    "    accuracy_test2.append(rf.score(X2_test, y2_test))\n",
    "    accuracy_train2.append(rf.score(X2_train, y2_train))\n",
    "    \n",
    "best_acc2 = np.max(accuracy_test2)\n",
    "best_depth2 = depths[np.argmax(accuracy_test2)]\n",
    "\n",
    "print(f'The highest accuracy on the test is achieved when depth: {best_depth}')\n",
    "print(f'The highest accuracy on the test set is: {round(best_acc*100, 3)}%')"
   ]
  },
  {
   "cell_type": "markdown",
   "metadata": {},
   "source": [
    "Then plot results"
   ]
  },
  {
   "cell_type": "code",
   "execution_count": 257,
   "metadata": {},
   "outputs": [
    {
     "data": {
      "image/png": "[encoded data removed]",
      "text/plain": [
       "<Figure size 640x480 with 1 Axes>"
      ]
     },
     "metadata": {},
     "output_type": "display_data"
    }
   ],
   "source": [
    "\n",
    "plt.plot(depths, accuracy_test2, 'r*:', depths, accuracy_train2, 'bo--')\n",
    "plt.legend(['accuracy_train' , 'accuracy_test'])\n",
    "plt.xlabel('Max depths')\n",
    "plt.ylabel('Accuracy')\n",
    "plt.show()"
   ]
  },
  {
   "cell_type": "markdown",
   "metadata": {},
   "source": [
    "And create `Best Random Forest Model`, then check what `features are most important`."
   ]
  },
  {
   "cell_type": "code",
   "execution_count": 258,
   "metadata": {},
   "outputs": [
    {
     "name": "stdout",
     "output_type": "stream",
     "text": [
      "Top 5 random forest features:\n",
      "                          feature  importance\n",
      "1                    capital-gain    0.290276\n",
      "0                             age    0.221937\n",
      "3                  hours-per-week    0.124304\n",
      "10  education_bin_Masters or more    0.110189\n",
      "2                    capital-loss    0.107970\n"
     ]
    }
   ],
   "source": [
    "best_rf2 = RandomForestClassifier(max_depth=best_depth2)\n",
    "best_rf2.fit(X2_train, y2_train)\n",
    "\n",
    "feature_imp_df = pd.DataFrame(zip(X2_train.columns, best_rf2.feature_importances_),  columns=['feature', 'importance'])\n",
    "\n",
    "print('Top 5 random forest features:')\n",
    "print(feature_imp_df.sort_values('importance', ascending=False).iloc[0:5])"
   ]
  },
  {
   "cell_type": "markdown",
   "metadata": {},
   "source": [
    "## Conclusion\n",
    "\n",
    "The accuracy of our final model increased and one of our added features is now in the top 5 based on importance, although according to results, `education` is not in superiority importance to another factor like `age` or `capital-gain`."
   ]
  }
 ],
 "metadata": {
  "kernelspec": {
   "display_name": "Python 3.9.12 ('base')",
   "language": "python",
   "name": "python3"
  },
  "language_info": {
   "codemirror_mode": {
    "name": "ipython",
    "version": 3
   },
   "file_extension": ".py",
   "mimetype": "text/x-python",
   "name": "python",
   "nbconvert_exporter": "python",
   "pygments_lexer": "ipython3",
   "version": "3.9.13"
  },
  "orig_nbformat": 4,
  "vscode": {
   "interpreter": {
    "hash": "e925636a0b7c6026e16ceba626bc40dea2d843d871da5cfe06b4755fd84dac6a"
   }
  }
 },
 "nbformat": 4,
 "nbformat_minor": 2
}
